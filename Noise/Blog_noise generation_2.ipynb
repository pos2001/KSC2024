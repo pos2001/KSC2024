{
 "cells": [
  {
   "cell_type": "markdown",
   "id": "6560a828-30bd-4c19-aeb0-54713d0dae8c",
   "metadata": {},
   "source": [
    "2번째 핸즈온은 특정 큐비트나 특정 게이트에만 특정 노이즈 인가\n",
    "\n",
    "\n",
    "\n",
    "이 접근 방식은 실제 양자 하드웨어의 특성을 모델링하는 데 유용할 수 있습니다. 이를 통해 더 정확한 양자 회로 시뮬레이션과 오류 분석이 가능해집니다"
   ]
  },
  {
   "cell_type": "code",
   "execution_count": 1,
   "id": "cd75e589-012e-48d9-94c2-3b632b1da991",
   "metadata": {},
   "outputs": [],
   "source": [
    "# general imports\n",
    "import matplotlib.pyplot as plt\n",
    "%matplotlib inline\n",
    "\n",
    "#import boto3\n",
    "from braket.aws import AwsDevice\n",
    "from braket.circuits import Circuit, Noise\n",
    "from braket.devices import LocalSimulator\n",
    "from braket.circuits import Circuit, Noise, Gate"
   ]
  },
  {
   "cell_type": "code",
   "execution_count": 2,
   "id": "f459ba07-3f18-4f05-941f-68a2e3a6ab14",
   "metadata": {
    "tags": []
   },
   "outputs": [],
   "source": [
    "# 노이즈 시뮬레이터 디바이스 선택\n",
    "device = AwsDevice(\"arn:aws:braket:::device/quantum-simulator/amazon/dm1\")\n",
    "#device = AwsDevice(\"arn:aws:braket:::device/quantum-simulator/amazon/sv1\")"
   ]
  },
  {
   "cell_type": "code",
   "execution_count": 3,
   "id": "c716135f-7a4b-4c78-bb69-a9b99ead4647",
   "metadata": {},
   "outputs": [],
   "source": [
    "# 간단한 양자 회로 생성\n",
    "circuit = Circuit().h(0).cnot(0, 1)"
   ]
  },
  {
   "cell_type": "code",
   "execution_count": 4,
   "id": "43cb807f-40c6-4ea5-88c1-d2011f4d36ad",
   "metadata": {},
   "outputs": [
    {
     "data": {
      "text/plain": [
       "Circuit('instructions': [Instruction('operator': H('qubit_count': 1), 'target': QubitSet([Qubit(0)]), 'control': QubitSet([]), 'control_state': (), 'power': 1), Instruction('operator': PhaseFlip(0.2), 'target': QubitSet([Qubit(0)]), 'control': QubitSet([]), 'control_state': (), 'power': 1), Instruction('operator': BitFlip(0.1), 'target': QubitSet([Qubit(0)]), 'control': QubitSet([]), 'control_state': (), 'power': 1), Instruction('operator': CNot('qubit_count': 2), 'target': QubitSet([Qubit(0), Qubit(1)]), 'control': QubitSet([]), 'control_state': (), 'power': 1), Instruction('operator': BitFlip(0.1), 'target': QubitSet([Qubit(0)]), 'control': QubitSet([]), 'control_state': (), 'power': 1)])"
      ]
     },
     "execution_count": 4,
     "metadata": {},
     "output_type": "execute_result"
    }
   ],
   "source": [
    "\n",
    "#10% 확률로 발생하는 비트 플립 노이즈 모델을 생성\n",
    "noise1 = Noise.BitFlip(probability=0.1)\n",
    "\n",
    "#20% 확률로 발생하는 위상 플립 노이즈 모델을 생성\n",
    "noise2 = Noise.PhaseFlip(probability=0.2)\n",
    "\n",
    "#비트 플립 노이즈(noise1)를 0번에 붙은 모든 게이트에 적용\n",
    "circuit.apply_gate_noise(noise1, target_qubits=[0])\n",
    "\n",
    "#위상 플립 노이즈(noise2)를 Hadamard 게이트에만 적용\n",
    "circuit.apply_gate_noise(noise2, target_gates=[Gate.H])"
   ]
  },
  {
   "cell_type": "code",
   "execution_count": 5,
   "id": "f218cc99-2e02-4a0f-8fc4-ebc60036ce9e",
   "metadata": {
    "tags": []
   },
   "outputs": [
    {
     "name": "stdout",
     "output_type": "stream",
     "text": [
      "T  : │              0              │        1        │\n",
      "      ┌───┐ ┌─────────┐ ┌─────────┐       ┌─────────┐ \n",
      "q0 : ─┤ H ├─┤ PF(0.2) ├─┤ BF(0.1) ├───●───┤ BF(0.1) ├─\n",
      "      └───┘ └─────────┘ └─────────┘   │   └─────────┘ \n",
      "                                    ┌─┴─┐             \n",
      "q1 : ───────────────────────────────┤ X ├─────────────\n",
      "                                    └───┘             \n",
      "T  : │              0              │        1        │\n"
     ]
    }
   ],
   "source": [
    "print(circuit)"
   ]
  },
  {
   "cell_type": "code",
   "execution_count": 6,
   "id": "a488f36e-509b-43af-af38-33a8fe02cc9d",
   "metadata": {},
   "outputs": [
    {
     "name": "stdout",
     "output_type": "stream",
     "text": [
      "Counter({'11': 455, '00': 441, '01': 56, '10': 48})\n"
     ]
    }
   ],
   "source": [
    "result = device.run(circuit, shots=1000).result()\n",
    "counts = result.measurement_counts\n",
    "# print counts\n",
    "print(counts)"
   ]
  },
  {
   "cell_type": "code",
   "execution_count": 7,
   "id": "0937ee67-c674-4f43-8cf3-66789b9ec99e",
   "metadata": {},
   "outputs": [
    {
     "name": "stdout",
     "output_type": "stream",
     "text": [
      "Counter({'11': 455, '00': 441, '01': 56, '10': 48})\n"
     ]
    }
   ],
   "source": [
    "# 결과 출력\n",
    "print(result.measurement_counts)"
   ]
  },
  {
   "cell_type": "code",
   "execution_count": 8,
   "id": "84ae4680-ae05-47bc-ab9d-0067efaad504",
   "metadata": {
    "tags": []
   },
   "outputs": [
    {
     "data": {
      "image/png": "[encoded data removed]",
      "text/plain": [
       "<Figure size 640x480 with 1 Axes>"
      ]
     },
     "metadata": {},
     "output_type": "display_data"
    }
   ],
   "source": [
    "# plot using Counter\n",
    "plt.bar(counts.keys(), counts.values());\n",
    "plt.xlabel('bitstrings');\n",
    "plt.ylabel('counts');"
   ]
  },
  {
   "cell_type": "code",
   "execution_count": null,
   "id": "5e72541a-c67f-498d-8f7c-b8a13d2d25b2",
   "metadata": {},
   "outputs": [],
   "source": []
  }
 ],
 "metadata": {
  "kernelspec": {
   "display_name": "conda_braket",
   "language": "python",
   "name": "conda_braket"
  },
  "language_info": {
   "codemirror_mode": {
    "name": "ipython",
    "version": 3
   },
   "file_extension": ".py",
   "mimetype": "text/x-python",
   "name": "python",
   "nbconvert_exporter": "python",
   "pygments_lexer": "ipython3",
   "version": "3.10.15"
  }
 },
 "nbformat": 4,
 "nbformat_minor": 5
}
