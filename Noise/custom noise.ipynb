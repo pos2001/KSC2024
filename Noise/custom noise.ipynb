{
 "cells": [
  {
   "cell_type": "markdown",
   "id": "51e51d91-007b-4b0d-9907-2f9dc5178e95",
   "metadata": {},
   "source": [
    "Kraus 연산자를 통해 사용자 정의 노이즈 모델을 생성하는 예시"
   ]
  },
  {
   "cell_type": "code",
   "execution_count": 1,
   "id": "71f2a4ed-8f64-46c5-a4a3-191bf1078ba9",
   "metadata": {
    "tags": []
   },
   "outputs": [],
   "source": [
    "from braket.circuits import Noise\n",
    "import numpy as np\n",
    "# general imports\n",
    "import matplotlib.pyplot as plt\n",
    "%matplotlib inline\n",
    "\n",
    "import boto3\n",
    "from braket.aws import AwsDevice\n",
    "from braket.circuits import Circuit, Noise\n",
    "from braket.devices import LocalSimulator\n"
   ]
  },
  {
   "cell_type": "code",
   "execution_count": 2,
   "id": "acb35dbd-672b-489e-8e23-53b88209ee7b",
   "metadata": {
    "tags": []
   },
   "outputs": [],
   "source": [
    "# 노이즈 시뮬레이터 디바이스 선택\n",
    "device = AwsDevice(\"arn:aws:braket:::device/quantum-simulator/amazon/dm1\")"
   ]
  },
  {
   "cell_type": "code",
   "execution_count": 3,
   "id": "2d03d6bb-b68f-4dfb-a28f-1d601cc22644",
   "metadata": {
    "tags": []
   },
   "outputs": [
    {
     "name": "stdout",
     "output_type": "stream",
     "text": [
      "T  : │  0  │  1  │\n",
      "      ┌───┐       \n",
      "q0 : ─┤ H ├───●───\n",
      "      └───┘   │   \n",
      "            ┌─┴─┐ \n",
      "q1 : ───────┤ X ├─\n",
      "            └───┘ \n",
      "T  : │  0  │  1  │\n"
     ]
    },
    {
     "data": {
      "text/plain": [
       "Circuit('instructions': [Instruction('operator': H('qubit_count': 1), 'target': QubitSet([Qubit(0)]), 'control': QubitSet([]), 'control_state': (), 'power': 1), Instruction('operator': Kraus('qubit_count': 1), 'target': QubitSet([Qubit(0)]), 'control': QubitSet([]), 'control_state': (), 'power': 1), Instruction('operator': CNot('qubit_count': 2), 'target': QubitSet([Qubit(0), Qubit(1)]), 'control': QubitSet([]), 'control_state': (), 'power': 1), Instruction('operator': Kraus('qubit_count': 1), 'target': QubitSet([Qubit(0)]), 'control': QubitSet([]), 'control_state': (), 'power': 1), Instruction('operator': Kraus('qubit_count': 1), 'target': QubitSet([Qubit(1)]), 'control': QubitSet([]), 'control_state': (), 'power': 1)])"
      ]
     },
     "execution_count": 3,
     "metadata": {},
     "output_type": "execute_result"
    }
   ],
   "source": [
    "# 크라우스 연산자는 양자 채널을 나타내는 행렬입니다. \n",
    "# 첫번째 연산자에서는 단위 행렬에 0.5를 곱하여 특정 노이즈 모델을 생성. 양자 상태를 균일하게 혼합(mixing)하는 효과를 모델링\n",
    "\n",
    "K0 = np.array([[1, 1], [1, 1]]) * 0.5\n",
    "\n",
    "# 두번째 크라우스 연산자 정의, 양자 상태의 위상(phase) 관계를 반전시키는 효과를 가지며, 양자 채널에서 발생할 수 있는 위상 노이즈를 모델링하는 데 사용\n",
    "K1 = np.array([[1, -1],[-1, 1]]) * 0.5\n",
    "\n",
    "# 앞에서 정의한 K0와 K1 크라우스 연산자를 사용하여 Noise 객체를 생성합니다. 이 객체는 양자 회로에 적용할 노이즈 모델을 나타냅니다.\n",
    "# Noise.Kraus는 Amazon Braket SDK에서 사용자 정의 양자 노이즈 채널을 생성하는 클래스\n",
    "noise = Noise.Kraus([K0, K1])\n",
    "\n",
    "circuit = Circuit().h(0).cnot(0, 1)\n",
    "print(circuit)\n",
    "\n",
    "#생성된 노이즈 모델을 회로의 모든 게이트에 적용\n",
    "circuit.apply_gate_noise(noise)"
   ]
  },
  {
   "cell_type": "code",
   "execution_count": 4,
   "id": "6ecab497-4480-485a-93e3-dd9350a14d4b",
   "metadata": {
    "tags": []
   },
   "outputs": [
    {
     "name": "stdout",
     "output_type": "stream",
     "text": [
      "Counter({'11': 261, '00': 255, '10': 244, '01': 240})\n"
     ]
    }
   ],
   "source": [
    "result = device.run(circuit, shots=1000).result()\n",
    "counts = result.measurement_counts\n",
    "# print counts\n",
    "print(counts)"
   ]
  },
  {
   "cell_type": "code",
   "execution_count": 5,
   "id": "66e220a5-f99e-43a2-8699-92c8caaa12e4",
   "metadata": {
    "tags": []
   },
   "outputs": [
    {
     "data": {
      "image/png": "[encoded data removed]",
      "text/plain": [
       "<Figure size 640x480 with 1 Axes>"
      ]
     },
     "metadata": {},
     "output_type": "display_data"
    }
   ],
   "source": [
    "# plot using Counter\n",
    "plt.bar(counts.keys(), counts.values());\n",
    "plt.xlabel('bitstrings');\n",
    "plt.ylabel('counts');"
   ]
  },
  {
   "cell_type": "code",
   "execution_count": null,
   "id": "75bcd4e1-286f-4f82-b1c8-8ee715eb4654",
   "metadata": {},
   "outputs": [],
   "source": []
  }
 ],
 "metadata": {
  "kernelspec": {
   "display_name": "conda_braket",
   "language": "python",
   "name": "conda_braket"
  },
  "language_info": {
   "codemirror_mode": {
    "name": "ipython",
    "version": 3
   },
   "file_extension": ".py",
   "mimetype": "text/x-python",
   "name": "python",
   "nbconvert_exporter": "python",
   "pygments_lexer": "ipython3",
   "version": "3.10.14"
  }
 },
 "nbformat": 4,
 "nbformat_minor": 5
}
