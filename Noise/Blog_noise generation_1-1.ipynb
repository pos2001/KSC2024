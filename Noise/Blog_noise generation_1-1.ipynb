{
 "cells": [
  {
   "cell_type": "markdown",
   "id": "e8d7a6cb-b8db-419d-a935-d862ad7370a9",
   "metadata": {},
   "source": [
    "위상 플립을 적용하면'01' 또는 '10'을 발생시키지 못함\n",
    "\n",
    "특정 큐비트에 노이즈 인가하는 실습"
   ]
  },
  {
   "cell_type": "code",
   "execution_count": 1,
   "id": "13c5e81c-c8a0-4145-9559-9950071ac9f7",
   "metadata": {
    "tags": []
   },
   "outputs": [],
   "source": [
    "# general imports\n",
    "import matplotlib.pyplot as plt\n",
    "%matplotlib inline\n",
    "\n",
    "import boto3\n",
    "from braket.aws import AwsDevice\n",
    "from braket.circuits import Circuit, Noise\n",
    "from braket.devices import LocalSimulator"
   ]
  },
  {
   "cell_type": "code",
   "execution_count": 2,
   "id": "6dbf2370-e524-48f4-8339-7bd558716a32",
   "metadata": {
    "tags": []
   },
   "outputs": [],
   "source": [
    "# 노이즈 시뮬레이터 디바이스 선택\n",
    "device = AwsDevice(\"arn:aws:braket:::device/quantum-simulator/amazon/dm1\")"
   ]
  },
  {
   "cell_type": "markdown",
   "id": "aecd446f-5c48-469b-a7b9-8d6a3f3c295d",
   "metadata": {},
   "source": [
    "we add a noise channel right after each gate\n",
    "\n",
    "1.\t첫 번째 큐비트를 중첩 상태로 만듭니다.\n",
    "\n",
    "2.\t비트 플립 노이즈를 적용합니다.\n",
    "\n",
    "3.\t두 큐비트를 얽힘 상태로 만듭니다.\n",
    "\n",
    "4.\t위상 플립 노이즈를 적용합니다\n"
   ]
  },
  {
   "cell_type": "code",
   "execution_count": 6,
   "id": "c23e3aac-d364-492a-a427-14ff6dd5102e",
   "metadata": {
    "tags": []
   },
   "outputs": [],
   "source": [
    "# 간단한 양자 회로 생성\n",
    "#phaseFlip\": {\"probability\": 0.1}: 큐비트의 위상이 180도 회전할 확률을 10%로 설정\n",
    "# 특정 게이트 생성 후 0번째 큐비트에 비트 플립 노이즈 추가 \n",
    "circuit = Circuit().h(0).bit_flip(0,0.1).cnot(0,1).bit_flip(0,0.1)"
   ]
  },
  {
   "cell_type": "code",
   "execution_count": 7,
   "id": "ee336f7e-58a2-45d7-8e30-18210ee777d8",
   "metadata": {
    "tags": []
   },
   "outputs": [
    {
     "name": "stdout",
     "output_type": "stream",
     "text": [
      "T  : │        0        │        1        │\n",
      "      ┌───┐ ┌─────────┐       ┌─────────┐ \n",
      "q0 : ─┤ H ├─┤ BF(0.1) ├───●───┤ BF(0.1) ├─\n",
      "      └───┘ └─────────┘   │   └─────────┘ \n",
      "                        ┌─┴─┐             \n",
      "q1 : ───────────────────┤ X ├─────────────\n",
      "                        └───┘             \n",
      "T  : │        0        │        1        │\n"
     ]
    }
   ],
   "source": [
    "print(circuit)"
   ]
  },
  {
   "cell_type": "code",
   "execution_count": 8,
   "id": "b541a86d-fd5d-4af5-879c-78b4f757e4c3",
   "metadata": {
    "tags": []
   },
   "outputs": [
    {
     "name": "stdout",
     "output_type": "stream",
     "text": [
      "Counter({'11': 463, '00': 446, '01': 48, '10': 43})\n"
     ]
    }
   ],
   "source": [
    "result = device.run(circuit, shots=1000).result()\n",
    "counts = result.measurement_counts\n",
    "# print counts\n",
    "print(counts)"
   ]
  },
  {
   "cell_type": "code",
   "execution_count": 9,
   "id": "344b1873-3ccb-40c8-ad7d-6db12b71ca6a",
   "metadata": {
    "tags": []
   },
   "outputs": [],
   "source": [
    "# 결과 출력\n",
    "#print(result.measurement_counts)"
   ]
  },
  {
   "cell_type": "code",
   "execution_count": 10,
   "id": "3023c4b3-da9b-4cf7-a84f-4b030aefd4fa",
   "metadata": {
    "tags": []
   },
   "outputs": [
    {
     "data": {
      "image/png": "[encoded data removed]",
      "text/plain": [
       "<Figure size 640x480 with 1 Axes>"
      ]
     },
     "metadata": {},
     "output_type": "display_data"
    }
   ],
   "source": [
    "# plot using Counter\n",
    "plt.bar(counts.keys(), counts.values());\n",
    "plt.xlabel('bitstrings');\n",
    "plt.ylabel('counts');"
   ]
  }
 ],
 "metadata": {
  "kernelspec": {
   "display_name": "conda_braket",
   "language": "python",
   "name": "conda_braket"
  },
  "language_info": {
   "codemirror_mode": {
    "name": "ipython",
    "version": 3
   },
   "file_extension": ".py",
   "mimetype": "text/x-python",
   "name": "python",
   "nbconvert_exporter": "python",
   "pygments_lexer": "ipython3",
   "version": "3.10.15"
  }
 },
 "nbformat": 4,
 "nbformat_minor": 5
}
